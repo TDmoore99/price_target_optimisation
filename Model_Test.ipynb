{
 "cells": [
  {
   "cell_type": "code",
   "execution_count": 1,
   "id": "6b461d61-0728-4da2-8ad3-634ead469fbf",
   "metadata": {},
   "outputs": [
    {
     "name": "stdout",
     "output_type": "stream",
     "text": [
      "The predicted price for AAPL on 2024-09-03 is $148.98\n"
     ]
    }
   ],
   "source": [
    "import pandas as pd\n",
    "import pickle\n",
    "from sklearn.preprocessing import StandardScaler\n",
    "import xgboost as xgb\n",
    "import numpy as np\n",
    "\n",
    "# Define the symbol for which you want to load the model\n",
    "symbol = 'AAPL'  # Replace with your desired stock symbol\n",
    "\n",
    "# Load the saved XGBoost model\n",
    "with open(f'./models/{symbol}_xgboost_model.pkl', 'rb') as model_file:\n",
    "    loaded_model = pickle.load(model_file)\n",
    "\n",
    "# Load the saved scaler\n",
    "with open(f'./models/{symbol}_scaler.pkl', 'rb') as scaler_file:\n",
    "    loaded_scaler = pickle.load(scaler_file)\n",
    "\n",
    "# Prepare input data for prediction\n",
    "# Assume we want to predict the price for 3rd September 2024\n",
    "predict_date = pd.Timestamp('2024-09-03')\n",
    "\n",
    "# You need to provide the latest available features for prediction\n",
    "# For example, these could be the latest known values\n",
    "last_close_price = 150.00  # Replace with actual last close price\n",
    "last_sentiment = 0.05      # Replace with actual last sentiment score\n",
    "last_sentiment_3m = 0.04   # Replace with actual last 3-month sentiment average\n",
    "last_sentiment_1m = 0.06   # Replace with actual last 1-month sentiment average\n",
    "\n",
    "# Create a DataFrame with the input features\n",
    "predict_data = pd.DataFrame({\n",
    "    'day_of_week': [predict_date.dayofweek],\n",
    "    'month': [predict_date.month],\n",
    "    'year': [predict_date.year],\n",
    "    'previous_close_price': [last_close_price],\n",
    "    'average_sentiment': [last_sentiment],\n",
    "    'sentiment_3m_avg': [last_sentiment_3m],\n",
    "    'sentiment_1m_avg': [last_sentiment_1m]\n",
    "})\n",
    "\n",
    "# Scale the input features using the loaded scaler\n",
    "predict_data_scaled = loaded_scaler.transform(predict_data)\n",
    "\n",
    "# Make the prediction using the loaded model\n",
    "predicted_price = loaded_model.predict(predict_data_scaled)[0]\n",
    "\n",
    "print(f\"The predicted price for {symbol} on {predict_date.date()} is ${predicted_price:.2f}\")\n"
   ]
  },
  {
   "cell_type": "code",
   "execution_count": null,
   "id": "de453e3b-90f2-498a-a3c4-39ae7c55fe63",
   "metadata": {},
   "outputs": [],
   "source": []
  }
 ],
 "metadata": {
  "kernelspec": {
   "display_name": "Python 3 (ipykernel)",
   "language": "python",
   "name": "python3"
  },
  "language_info": {
   "codemirror_mode": {
    "name": "ipython",
    "version": 3
   },
   "file_extension": ".py",
   "mimetype": "text/x-python",
   "name": "python",
   "nbconvert_exporter": "python",
   "pygments_lexer": "ipython3",
   "version": "3.12.4"
  }
 },
 "nbformat": 4,
 "nbformat_minor": 5
}
